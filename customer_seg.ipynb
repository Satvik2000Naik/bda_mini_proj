{
 "cells": [
  {
   "cell_type": "code",
   "execution_count": 12,
   "metadata": {},
   "outputs": [],
   "source": [
    "from pyspark.sql import SparkSession\n",
    "#spark session is the entry point for using pyspark\n",
    "#its instance is to be created usind builder\n",
    "\n"
   ]
  },
  {
   "cell_type": "code",
   "execution_count": 13,
   "metadata": {},
   "outputs": [],
   "source": [
    "spark = SparkSession.builder.appName(\"customer_seg\").getOrCreate()"
   ]
  },
  {
   "cell_type": "code",
   "execution_count": 16,
   "metadata": {},
   "outputs": [],
   "source": [
    "df = spark.read.csv(\"Mall_Customers.csv\" ,header=True , inferSchema =True)"
   ]
  },
  {
   "cell_type": "code",
   "execution_count": 48,
   "metadata": {},
   "outputs": [
    {
     "name": "stdout",
     "output_type": "stream",
     "text": [
      "+----------+------+---+------------------+----------------------+\n",
      "|CustomerID|Gender|Age|Annual Income (k$)|Spending Score (1-100)|\n",
      "+----------+------+---+------------------+----------------------+\n",
      "|         1|  Male| 19|                15|                    39|\n",
      "|         2|  Male| 21|                15|                    81|\n",
      "+----------+------+---+------------------+----------------------+\n",
      "only showing top 2 rows\n",
      "\n"
     ]
    }
   ],
   "source": [
    "df.show(2)"
   ]
  },
  {
   "cell_type": "code",
   "execution_count": 64,
   "metadata": {},
   "outputs": [],
   "source": [
    "df = df.na.drop()"
   ]
  },
  {
   "cell_type": "code",
   "execution_count": 65,
   "metadata": {},
   "outputs": [],
   "source": [
    "from pyspark.ml.linalg import Vectors\n",
    "from pyspark.ml.feature import VectorAssembler\n"
   ]
  },
  {
   "cell_type": "code",
   "execution_count": 66,
   "metadata": {},
   "outputs": [
    {
     "data": {
      "text/plain": [
       "['CustomerID', 'Gender', 'Age', 'Annual Income (k$)', 'Spending Score (1-100)']"
      ]
     },
     "execution_count": 66,
     "metadata": {},
     "output_type": "execute_result"
    }
   ],
   "source": [
    "df.columns"
   ]
  },
  {
   "cell_type": "code",
   "execution_count": 114,
   "metadata": {},
   "outputs": [],
   "source": [
    "assemble = VectorAssembler(inputCols=[ 'Age', 'Annual Income (k$)', 'Spending Score (1-100)'], outputCol='features')\n",
    "#Vectorassembler to is a transformer that converts a set of features into \n",
    "#a single vector column often referred to as features"
   ]
  },
  {
   "cell_type": "code",
   "execution_count": 115,
   "metadata": {},
   "outputs": [],
   "source": [
    "assembled_data=assemble.transform(df)"
   ]
  },
  {
   "cell_type": "code",
   "execution_count": 116,
   "metadata": {},
   "outputs": [
    {
     "name": "stdout",
     "output_type": "stream",
     "text": [
      "+----------+------+---+------------------+----------------------+----------------+\n",
      "|CustomerID|Gender|Age|Annual Income (k$)|Spending Score (1-100)|        features|\n",
      "+----------+------+---+------------------+----------------------+----------------+\n",
      "|         1|  Male| 19|                15|                    39|[19.0,15.0,39.0]|\n",
      "|         2|  Male| 21|                15|                    81|[21.0,15.0,81.0]|\n",
      "+----------+------+---+------------------+----------------------+----------------+\n",
      "only showing top 2 rows\n",
      "\n"
     ]
    }
   ],
   "source": [
    "assembled_data.show(2)"
   ]
  },
  {
   "cell_type": "code",
   "execution_count": 117,
   "metadata": {},
   "outputs": [
    {
     "name": "stdout",
     "output_type": "stream",
     "text": [
      "+----------+------+---+------------------+----------------------+----------------+--------------------+\n",
      "|CustomerID|Gender|Age|Annual Income (k$)|Spending Score (1-100)|        features|        standardized|\n",
      "+----------+------+---+------------------+----------------------+----------------+--------------------+\n",
      "|         1|  Male| 19|                15|                    39|[19.0,15.0,39.0]|[1.36015391423519...|\n",
      "|         2|  Male| 21|                15|                    81|[21.0,15.0,81.0]|[1.50332801047048...|\n",
      "+----------+------+---+------------------+----------------------+----------------+--------------------+\n",
      "only showing top 2 rows\n",
      "\n"
     ]
    }
   ],
   "source": [
    "from pyspark.ml.feature import StandardScaler\n",
    "scale=StandardScaler(inputCol='features',outputCol='standardized')\n",
    "data_scale=scale.fit(assembled_data)\n",
    "data_scale_output=data_scale.transform(assembled_data)\n",
    "data_scale_output.show(2)\n",
    "#to standardize the data to bring them to a comparable scale\n",
    "#Euclidean distance is always impacted more by variables on a higher scale, hence it’s important to scale the variables out."
   ]
  },
  {
   "cell_type": "code",
   "execution_count": 118,
   "metadata": {},
   "outputs": [],
   "source": [
    "from pyspark.ml.clustering import KMeans\n",
    "from pyspark.ml.evaluation import ClusteringEvaluator"
   ]
  },
  {
   "cell_type": "code",
   "execution_count": 119,
   "metadata": {},
   "outputs": [],
   "source": [
    "\n",
    "evaluator = ClusteringEvaluator(predictionCol='prediction', featuresCol='standardized', \\\n",
    "                                metricName='silhouette', distanceMeasure='squaredEuclidean')\n",
    "\n",
    "\n",
    "#Silhouette Score using ClusteringEvaluator() measures how close each point in one cluster is\n",
    "#to points in the neighboring clusters \n",
    "#thus helping in figuring out clusters that are compact and well-spaced out.\n",
    "#"
   ]
  },
  {
   "cell_type": "code",
   "execution_count": 120,
   "metadata": {},
   "outputs": [
    {
     "name": "stdout",
     "output_type": "stream",
     "text": [
      "\n",
      "Silhoutte Scores for K Mean Clustering\n",
      "======================================\n",
      "Model\tScore\t\n",
      "=====\t=====\t\n",
      "\n",
      "K2\t0.49\t\n",
      "K3\t0.45\t\n",
      "K4\t0.51\t\n",
      "K5\t0.6\t\n",
      "K6\t0.56\t\n",
      "K7\t0.58\t\n",
      "K8\t0.57\t\n",
      "K9\t0.56\t\n",
      "K10\t0.59\t\n"
     ]
    }
   ],
   "source": [
    "silhouette_score = []\n",
    "print(\"\"\"\n",
    "Silhoutte Scores for K Mean Clustering\n",
    "======================================\n",
    "Model\\tScore\\t\n",
    "=====\\t=====\\t\n",
    "\"\"\")\n",
    "for k in range(2,11):\n",
    "  kmeans_algo = KMeans(featuresCol='standardized',k=k)\n",
    "  kmeans_fit = kmeans_algo.fit(data_scale_output)\n",
    "  output = kmeans_fit.transform(data_scale_output)\n",
    "  score=evaluator.evaluate(output)\n",
    "    \n",
    "  silhouette_score.append(score)\n",
    "  print(f\"K{k}\\t{round(score,2)}\\t\")"
   ]
  },
  {
   "cell_type": "code",
   "execution_count": 113,
   "metadata": {},
   "outputs": [
    {
     "data": {
      "image/png": "[encoded data removed]",
      "text/plain": [
       "<Figure size 720x720 with 1 Axes>"
      ]
     },
     "metadata": {
      "needs_background": "light"
     },
     "output_type": "display_data"
    }
   ],
   "source": [
    "import matplotlib.pyplot as plt\n",
    "fig, ax = plt.subplots(1, 1, figsize=(10,10))\n",
    "ax.plot(range(2,11), silhouette_score)\n",
    "ax.set_xlabel(\"K\")\n",
    "ax.set_ylabel(\"Score\");"
   ]
  },
  {
   "cell_type": "code",
   "execution_count": 122,
   "metadata": {},
   "outputs": [],
   "source": [
    "assemble = VectorAssembler(inputCols=[  'Annual Income (k$)', 'Spending Score (1-100)'], outputCol='features')"
   ]
  },
  {
   "cell_type": "code",
   "execution_count": 123,
   "metadata": {},
   "outputs": [],
   "source": [
    "assembled_data=assemble.transform(df)"
   ]
  },
  {
   "cell_type": "code",
   "execution_count": 124,
   "metadata": {},
   "outputs": [
    {
     "name": "stdout",
     "output_type": "stream",
     "text": [
      "+----------+------+---+------------------+----------------------+-----------+\n",
      "|CustomerID|Gender|Age|Annual Income (k$)|Spending Score (1-100)|   features|\n",
      "+----------+------+---+------------------+----------------------+-----------+\n",
      "|         1|  Male| 19|                15|                    39|[15.0,39.0]|\n",
      "|         2|  Male| 21|                15|                    81|[15.0,81.0]|\n",
      "+----------+------+---+------------------+----------------------+-----------+\n",
      "only showing top 2 rows\n",
      "\n"
     ]
    }
   ],
   "source": [
    "assembled_data.show(2)"
   ]
  },
  {
   "cell_type": "code",
   "execution_count": 125,
   "metadata": {},
   "outputs": [
    {
     "name": "stdout",
     "output_type": "stream",
     "text": [
      "+----------+------+---+------------------+----------------------+-----------+--------------------+\n",
      "|CustomerID|Gender|Age|Annual Income (k$)|Spending Score (1-100)|   features|        standardized|\n",
      "+----------+------+---+------------------+----------------------+-----------+--------------------+\n",
      "|         1|  Male| 19|                15|                    39|[15.0,39.0]|[0.57110829030364...|\n",
      "|         2|  Male| 21|                15|                    81|[15.0,81.0]|[0.57110829030364...|\n",
      "+----------+------+---+------------------+----------------------+-----------+--------------------+\n",
      "only showing top 2 rows\n",
      "\n"
     ]
    }
   ],
   "source": [
    "from pyspark.ml.feature import StandardScaler\n",
    "scale=StandardScaler(inputCol='features',outputCol='standardized')\n",
    "data_scale=scale.fit(assembled_data)\n",
    "data_scale_output=data_scale.transform(assembled_data)\n",
    "data_scale_output.show(2)"
   ]
  },
  {
   "cell_type": "code",
   "execution_count": 126,
   "metadata": {},
   "outputs": [],
   "source": [
    "from pyspark.ml.clustering import KMeans\n",
    "from pyspark.ml.evaluation import ClusteringEvaluator"
   ]
  },
  {
   "cell_type": "code",
   "execution_count": 127,
   "metadata": {},
   "outputs": [],
   "source": [
    "evaluator = ClusteringEvaluator(predictionCol='prediction', featuresCol='standardized', \\\n",
    "                                metricName='silhouette', distanceMeasure='squaredEuclidean')"
   ]
  },
  {
   "cell_type": "code",
   "execution_count": 128,
   "metadata": {},
   "outputs": [
    {
     "name": "stdout",
     "output_type": "stream",
     "text": [
      "\n",
      "Silhoutte Scores for K Mean Clustering\n",
      "======================================\n",
      "Model\tScore\t\n",
      "=====\t=====\t\n",
      "\n",
      "K2\t0.45\t\n",
      "K3\t0.63\t\n",
      "K4\t0.66\t\n",
      "K5\t0.62\t\n",
      "K6\t0.53\t\n",
      "K7\t0.72\t\n",
      "K8\t0.7\t\n",
      "K9\t0.63\t\n",
      "K10\t0.58\t\n"
     ]
    }
   ],
   "source": [
    "silhouette_score = []\n",
    "print(\"\"\"\n",
    "Silhoutte Scores for K Mean Clustering\n",
    "======================================\n",
    "Model\\tScore\\t\n",
    "=====\\t=====\\t\n",
    "\"\"\")\n",
    "for k in range(2,11):\n",
    "  kmeans_algo = KMeans(featuresCol='standardized',k=k)\n",
    "  kmeans_fit = kmeans_algo.fit(data_scale_output)\n",
    "  output = kmeans_fit.transform(data_scale_output)\n",
    "  score=evaluator.evaluate(output)\n",
    "    \n",
    "  silhouette_score.append(score)\n",
    "  print(f\"K{k}\\t{round(score,2)}\\t\")"
   ]
  },
  {
   "cell_type": "code",
   "execution_count": 129,
   "metadata": {},
   "outputs": [
    {
     "data": {
      "image/png": "[encoded data removed]",
      "text/plain": [
       "<Figure size 720x720 with 1 Axes>"
      ]
     },
     "metadata": {
      "needs_background": "light"
     },
     "output_type": "display_data"
    }
   ],
   "source": [
    "import matplotlib.pyplot as plt\n",
    "fig, ax = plt.subplots(1, 1, figsize=(10,10))\n",
    "ax.plot(range(2,11), silhouette_score)\n",
    "ax.set_xlabel(\"K\")\n",
    "ax.set_ylabel(\"Score\");"
   ]
  },
  {
   "cell_type": "code",
   "execution_count": 130,
   "metadata": {},
   "outputs": [],
   "source": [
    "assemble = VectorAssembler(inputCols=[ 'Age' ,'Spending Score (1-100)'], outputCol='features')"
   ]
  },
  {
   "cell_type": "code",
   "execution_count": 131,
   "metadata": {},
   "outputs": [
    {
     "name": "stdout",
     "output_type": "stream",
     "text": [
      "+----------+------+---+------------------+----------------------+-----------+\n",
      "|CustomerID|Gender|Age|Annual Income (k$)|Spending Score (1-100)|   features|\n",
      "+----------+------+---+------------------+----------------------+-----------+\n",
      "|         1|  Male| 19|                15|                    39|[19.0,39.0]|\n",
      "|         2|  Male| 21|                15|                    81|[21.0,81.0]|\n",
      "+----------+------+---+------------------+----------------------+-----------+\n",
      "only showing top 2 rows\n",
      "\n"
     ]
    }
   ],
   "source": [
    "assembled_data=assemble.transform(df)\n",
    "assembled_data.show(2)"
   ]
  },
  {
   "cell_type": "code",
   "execution_count": 132,
   "metadata": {},
   "outputs": [
    {
     "name": "stdout",
     "output_type": "stream",
     "text": [
      "+----------+------+---+------------------+----------------------+-----------+--------------------+\n",
      "|CustomerID|Gender|Age|Annual Income (k$)|Spending Score (1-100)|   features|        standardized|\n",
      "+----------+------+---+------------------+----------------------+-----------+--------------------+\n",
      "|         1|  Male| 19|                15|                    39|[19.0,39.0]|[1.36015391423519...|\n",
      "|         2|  Male| 21|                15|                    81|[21.0,81.0]|[1.50332801047048...|\n",
      "+----------+------+---+------------------+----------------------+-----------+--------------------+\n",
      "only showing top 2 rows\n",
      "\n"
     ]
    }
   ],
   "source": [
    "from pyspark.ml.feature import StandardScaler\n",
    "scale=StandardScaler(inputCol='features',outputCol='standardized')\n",
    "data_scale=scale.fit(assembled_data)\n",
    "data_scale_output=data_scale.transform(assembled_data)\n",
    "data_scale_output.show(2)"
   ]
  },
  {
   "cell_type": "code",
   "execution_count": 133,
   "metadata": {},
   "outputs": [],
   "source": [
    "from pyspark.ml.clustering import KMeans\n",
    "from pyspark.ml.evaluation import ClusteringEvaluator"
   ]
  },
  {
   "cell_type": "code",
   "execution_count": 135,
   "metadata": {},
   "outputs": [],
   "source": [
    "evaluator = ClusteringEvaluator(predictionCol='prediction', featuresCol='standardized', \\\n",
    "                                metricName='silhouette', distanceMeasure='squaredEuclidean')"
   ]
  },
  {
   "cell_type": "code",
   "execution_count": 136,
   "metadata": {},
   "outputs": [
    {
     "name": "stdout",
     "output_type": "stream",
     "text": [
      "\n",
      "Silhoutte Scores for K Mean Clustering\n",
      "======================================\n",
      "Model\tScore\t\n",
      "=====\t=====\t\n",
      "\n",
      "K2\t0.65\t\n",
      "K3\t0.62\t\n",
      "K4\t0.61\t\n",
      "K5\t0.59\t\n",
      "K6\t0.64\t\n",
      "K7\t0.63\t\n",
      "K8\t0.6\t\n",
      "K9\t0.57\t\n",
      "K10\t0.59\t\n"
     ]
    }
   ],
   "source": [
    "silhouette_score = []\n",
    "print(\"\"\"\n",
    "Silhoutte Scores for K Mean Clustering\n",
    "======================================\n",
    "Model\\tScore\\t\n",
    "=====\\t=====\\t\n",
    "\"\"\")\n",
    "for k in range(2,11):\n",
    "  kmeans_algo = KMeans(featuresCol='standardized',k=k)\n",
    "  kmeans_fit = kmeans_algo.fit(data_scale_output)\n",
    "  output = kmeans_fit.transform(data_scale_output)\n",
    "  score=evaluator.evaluate(output)\n",
    "    \n",
    "  silhouette_score.append(score)\n",
    "  print(f\"K{k}\\t{round(score,2)}\\t\")"
   ]
  },
  {
   "cell_type": "code",
   "execution_count": 137,
   "metadata": {},
   "outputs": [
    {
     "data": {
      "image/png": "[encoded data removed]",
      "text/plain": [
       "<Figure size 720x720 with 1 Axes>"
      ]
     },
     "metadata": {
      "needs_background": "light"
     },
     "output_type": "display_data"
    }
   ],
   "source": [
    "import matplotlib.pyplot as plt\n",
    "fig, ax = plt.subplots(1, 1, figsize=(10,10))\n",
    "ax.plot(range(2,11), silhouette_score)\n",
    "ax.set_xlabel(\"K\")\n",
    "ax.set_ylabel(\"Score\");"
   ]
  },
  {
   "cell_type": "code",
   "execution_count": null,
   "metadata": {},
   "outputs": [],
   "source": [
    "|"
   ]
  }
 ],
 "metadata": {
  "kernelspec": {
   "display_name": "Python 3",
   "language": "python",
   "name": "python3"
  },
  "language_info": {
   "codemirror_mode": {
    "name": "ipython",
    "version": 3
   },
   "file_extension": ".py",
   "mimetype": "text/x-python",
   "name": "python",
   "nbconvert_exporter": "python",
   "pygments_lexer": "ipython3",
   "version": "3.7.4"
  }
 },
 "nbformat": 4,
 "nbformat_minor": 2
}
